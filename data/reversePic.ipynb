{
 "metadata": {
  "language_info": {
   "codemirror_mode": {
    "name": "ipython",
    "version": 3
   },
   "file_extension": ".py",
   "mimetype": "text/x-python",
   "name": "python",
   "nbconvert_exporter": "python",
   "pygments_lexer": "ipython3",
   "version": "3.7.7"
  },
  "orig_nbformat": 2,
  "kernelspec": {
   "name": "python3",
   "display_name": "Python 3",
   "language": "python"
  }
 },
 "nbformat": 4,
 "nbformat_minor": 2,
 "cells": [
  {
   "source": [
    "# this file is used to reverse the locations of segments and photos in a single input img\n",
    "\n",
    "> all images are 256*256*2 -> 512*256"
   ],
   "cell_type": "markdown",
   "metadata": {}
  },
  {
   "cell_type": "code",
   "execution_count": 2,
   "metadata": {},
   "outputs": [],
   "source": [
    "import os\n",
    "from PIL import Image"
   ]
  },
  {
   "source": [
    "## westernSeg2Pic\n",
    "* input: western photos on left, segments on right, trained for segments to pictures\n",
    "* output: western segments on left, photos on right, trained for pictures to segment"
   ],
   "cell_type": "markdown",
   "metadata": {}
  },
  {
   "cell_type": "code",
   "execution_count": 9,
   "metadata": {},
   "outputs": [],
   "source": [
    "initimgname = 'westernSeg2Pic/facades/test/1.jpg'\n",
    "im = Image.open(initimgname)"
   ]
  },
  {
   "cell_type": "code",
   "execution_count": 17,
   "metadata": {},
   "outputs": [],
   "source": [
    "im.show()"
   ]
  },
  {
   "cell_type": "code",
   "execution_count": 4,
   "metadata": {},
   "outputs": [
    {
     "output_type": "execute_result",
     "data": {
      "text/plain": [
       "(512, 256)"
      ]
     },
     "metadata": {},
     "execution_count": 4
    }
   ],
   "source": [
    "im.size"
   ]
  },
  {
   "cell_type": "code",
   "execution_count": 12,
   "metadata": {},
   "outputs": [],
   "source": [
    "left_emu = (0, 0, 256, 256)\n",
    "right_emu = (256, 0, 512, 256)\n",
    "left_img = im.crop(left_emu)\n",
    "right_img = im.crop(right_emu)"
   ]
  },
  {
   "cell_type": "code",
   "execution_count": 13,
   "metadata": {},
   "outputs": [],
   "source": [
    "left_img.show()"
   ]
  },
  {
   "cell_type": "code",
   "execution_count": 14,
   "metadata": {},
   "outputs": [],
   "source": [
    "right_img.show()"
   ]
  },
  {
   "cell_type": "code",
   "execution_count": 15,
   "metadata": {},
   "outputs": [],
   "source": [
    "target = Image.new('RGB', (512, 256))\n",
    "target.paste(right_img, left_emu)\n",
    "target.paste(left_img, right_emu)"
   ]
  },
  {
   "cell_type": "code",
   "execution_count": 16,
   "metadata": {},
   "outputs": [],
   "source": [
    "target.show()"
   ]
  },
  {
   "cell_type": "code",
   "execution_count": 26,
   "metadata": {
    "tags": []
   },
   "outputs": [
    {
     "output_type": "stream",
     "name": "stdout",
     "text": [
      "test\ntrain\nval\n"
     ]
    }
   ],
   "source": [
    "inpath = 'westernSeg2Pic/facades'\n",
    "for subdirs in os.scandir(inpath):\n",
    "    if subdirs.is_dir():\n",
    "        print(subdirs.name)"
   ]
  },
  {
   "cell_type": "code",
   "execution_count": 32,
   "metadata": {
    "tags": []
   },
   "outputs": [
    {
     "output_type": "stream",
     "name": "stdout",
     "text": [
      "test/63.jpg\ntest/77.jpg\ntest/88.jpg\ntest/89.jpg\ntest/76.jpg\ntest/62.jpg\ntest/74.jpg\ntest/60.jpg\ntest/48.jpg\ntest/49.jpg\ntest/61.jpg\ntest/75.jpg\ntest/59.jpg\ntest/71.jpg\ntest/65.jpg\ntest/64.jpg\ntest/70.jpg\ntest/58.jpg\ntest/8.jpg\ntest/66.jpg\ntest/72.jpg\ntest/99.jpg\ntest/98.jpg\ntest/73.jpg\ntest/67.jpg\ntest/9.jpg\ntest/14.jpg\ntest/28.jpg\ntest/101.jpg\ntest/100.jpg\ntest/29.jpg\ntest/15.jpg\ntest/17.jpg\ntest/102.jpg\ntest/103.jpg\ntest/16.jpg\ntest/12.jpg\ntest/106.jpg\ntest/13.jpg\ntest/39.jpg\ntest/11.jpg\ntest/104.jpg\ntest/105.jpg\ntest/10.jpg\ntest/38.jpg\ntest/21.jpg\ntest/35.jpg\ntest/34.jpg\ntest/20.jpg\ntest/36.jpg\ntest/22.jpg\ntest/23.jpg\ntest/37.jpg\ntest/33.jpg\ntest/27.jpg\ntest/26.jpg\ntest/32.jpg\ntest/18.jpg\ntest/24.jpg\ntest/30.jpg\ntest/31.jpg\ntest/25.jpg\ntest/19.jpg\ntest/42.jpg\ntest/4.jpg\ntest/56.jpg\ntest/81.jpg\ntest/95.jpg\ntest/94.jpg\ntest/80.jpg\ntest/5.jpg\ntest/57.jpg\ntest/43.jpg\ntest/55.jpg\ntest/7.jpg\ntest/41.jpg\ntest/69.jpg\ntest/96.jpg\ntest/82.jpg\ntest/83.jpg\ntest/97.jpg\ntest/68.jpg\ntest/40.jpg\ntest/54.jpg\ntest/6.jpg\ntest/78.jpg\ntest/2.jpg\ntest/50.jpg\ntest/44.jpg\ntest/93.jpg\ntest/87.jpg\ntest/86.jpg\ntest/92.jpg\ntest/45.jpg\ntest/3.jpg\ntest/51.jpg\ntest/79.jpg\ntest/47.jpg\ntest/53.jpg\ntest/1.jpg\ntest/84.jpg\ntest/90.jpg\ntest/91.jpg\ntest/85.jpg\ntest/52.jpg\ntest/46.jpg\ntrain/63.jpg\ntrain/189.jpg\ntrain/77.jpg\ntrain/162.jpg\ntrain/176.jpg\ntrain/88.jpg\ntrain/348.jpg\ntrain/360.jpg\ntrain/374.jpg\ntrain/228.jpg\ntrain/214.jpg\ntrain/200.jpg\ntrain/201.jpg\ntrain/215.jpg\ntrain/229.jpg\ntrain/375.jpg\ntrain/361.jpg\ntrain/349.jpg\ntrain/177.jpg\ntrain/89.jpg\ntrain/163.jpg\ntrain/188.jpg\ntrain/76.jpg\ntrain/62.jpg\ntrain/74.jpg\ntrain/60.jpg\ntrain/48.jpg\ntrain/149.jpg\ntrain/175.jpg\ntrain/161.jpg\ntrain/388.jpg\ntrain/377.jpg\ntrain/363.jpg\ntrain/203.jpg\ntrain/217.jpg\ntrain/216.jpg\ntrain/202.jpg\ntrain/362.jpg\ntrain/376.jpg\ntrain/389.jpg\ntrain/160.jpg\ntrain/174.jpg\ntrain/148.jpg\ntrain/49.jpg\ntrain/61.jpg\ntrain/75.jpg\ntrain/59.jpg\ntrain/71.jpg\ntrain/65.jpg\ntrain/170.jpg\ntrain/164.jpg\ntrain/158.jpg\ntrain/399.jpg\ntrain/372.jpg\ntrain/366.jpg\ntrain/400.jpg\ntrain/206.jpg\ntrain/212.jpg\ntrain/213.jpg\ntrain/207.jpg\ntrain/367.jpg\ntrain/373.jpg\ntrain/398.jpg\ntrain/159.jpg\ntrain/165.jpg\ntrain/171.jpg\ntrain/64.jpg\ntrain/70.jpg\ntrain/58.jpg\ntrain/8.jpg\ntrain/198.jpg\ntrain/66.jpg\ntrain/72.jpg\ntrain/167.jpg\ntrain/99.jpg\ntrain/173.jpg\ntrain/365.jpg\ntrain/371.jpg\ntrain/359.jpg\ntrain/211.jpg\ntrain/205.jpg\ntrain/239.jpg\ntrain/238.jpg\ntrain/204.jpg\ntrain/210.jpg\ntrain/358.jpg\ntrain/370.jpg\ntrain/364.jpg\ntrain/172.jpg\ntrain/166.jpg\ntrain/98.jpg\ntrain/73.jpg\ntrain/199.jpg\ntrain/67.jpg\ntrain/9.jpg\ntrain/14.jpg\ntrain/28.jpg\ntrain/129.jpg\ntrain/101.jpg\ntrain/115.jpg\ntrain/303.jpg\ntrain/317.jpg\ntrain/288.jpg\ntrain/277.jpg\ntrain/263.jpg\ntrain/262.jpg\ntrain/276.jpg\ntrain/289.jpg\ntrain/316.jpg\ntrain/302.jpg\ntrain/114.jpg\ntrain/100.jpg\ntrain/128.jpg\ntrain/29.jpg\ntrain/15.jpg\ntrain/17.jpg\ntrain/116.jpg\ntrain/102.jpg\ntrain/328.jpg\ntrain/314.jpg\ntrain/300.jpg\ntrain/248.jpg\ntrain/260.jpg\ntrain/274.jpg\ntrain/275.jpg\ntrain/261.jpg\ntrain/249.jpg\ntrain/301.jpg\ntrain/315.jpg\ntrain/329.jpg\ntrain/103.jpg\ntrain/117.jpg\ntrain/16.jpg\ntrain/12.jpg\ntrain/113.jpg\ntrain/107.jpg\ntrain/311.jpg\ntrain/305.jpg\ntrain/339.jpg\ntrain/265.jpg\ntrain/271.jpg\ntrain/259.jpg\ntrain/258.jpg\ntrain/270.jpg\ntrain/264.jpg\ntrain/338.jpg\ntrain/304.jpg\ntrain/310.jpg\ntrain/106.jpg\ntrain/112.jpg\ntrain/13.jpg\ntrain/39.jpg\ntrain/11.jpg\ntrain/104.jpg\ntrain/110.jpg\ntrain/138.jpg\ntrain/306.jpg\ntrain/312.jpg\ntrain/299.jpg\ntrain/272.jpg\ntrain/266.jpg\ntrain/267.jpg\ntrain/273.jpg\ntrain/298.jpg\ntrain/313.jpg\ntrain/307.jpg\ntrain/139.jpg\ntrain/111.jpg\ntrain/105.jpg\ntrain/10.jpg\ntrain/38.jpg\ntrain/21.jpg\ntrain/35.jpg\ntrain/108.jpg\ntrain/120.jpg\ntrain/134.jpg\ntrain/322.jpg\ntrain/336.jpg\ntrain/295.jpg\ntrain/281.jpg\ntrain/256.jpg\ntrain/242.jpg\ntrain/243.jpg\ntrain/257.jpg\ntrain/280.jpg\ntrain/294.jpg\ntrain/337.jpg\ntrain/323.jpg\ntrain/135.jpg\ntrain/121.jpg\ntrain/109.jpg\ntrain/34.jpg\ntrain/20.jpg\ntrain/36.jpg\ntrain/22.jpg\ntrain/137.jpg\ntrain/123.jpg\ntrain/309.jpg\ntrain/335.jpg\ntrain/321.jpg\ntrain/282.jpg\ntrain/296.jpg\ntrain/269.jpg\ntrain/241.jpg\ntrain/255.jpg\ntrain/254.jpg\ntrain/240.jpg\ntrain/268.jpg\ntrain/297.jpg\ntrain/283.jpg\ntrain/320.jpg\ntrain/334.jpg\ntrain/308.jpg\ntrain/122.jpg\ntrain/136.jpg\ntrain/23.jpg\ntrain/37.jpg\ntrain/33.jpg\ntrain/27.jpg\ntrain/132.jpg\ntrain/126.jpg\ntrain/330.jpg\ntrain/324.jpg\ntrain/318.jpg\ntrain/287.jpg\ntrain/293.jpg\ntrain/244.jpg\ntrain/250.jpg\ntrain/278.jpg\ntrain/279.jpg\ntrain/251.jpg\ntrain/245.jpg\ntrain/292.jpg\ntrain/286.jpg\ntrain/319.jpg\ntrain/325.jpg\ntrain/331.jpg\ntrain/127.jpg\ntrain/133.jpg\ntrain/26.jpg\ntrain/32.jpg\ntrain/18.jpg\ntrain/24.jpg\ntrain/30.jpg\ntrain/125.jpg\ntrain/131.jpg\ntrain/119.jpg\ntrain/327.jpg\ntrain/333.jpg\ntrain/290.jpg\ntrain/284.jpg\ntrain/253.jpg\ntrain/247.jpg\ntrain/246.jpg\ntrain/252.jpg\ntrain/285.jpg\ntrain/291.jpg\ntrain/332.jpg\ntrain/326.jpg\ntrain/118.jpg\ntrain/130.jpg\ntrain/124.jpg\ntrain/31.jpg\ntrain/25.jpg\ntrain/19.jpg\ntrain/42.jpg\ntrain/4.jpg\ntrain/56.jpg\ntrain/180.jpg\ntrain/194.jpg\ntrain/81.jpg\ntrain/95.jpg\ntrain/143.jpg\ntrain/157.jpg\ntrain/382.jpg\ntrain/396.jpg\ntrain/369.jpg\ntrain/341.jpg\ntrain/355.jpg\ntrain/209.jpg\ntrain/235.jpg\ntrain/221.jpg\ntrain/220.jpg\ntrain/234.jpg\ntrain/208.jpg\ntrain/354.jpg\ntrain/340.jpg\ntrain/368.jpg\ntrain/397.jpg\ntrain/383.jpg\ntrain/156.jpg\ntrain/142.jpg\ntrain/94.jpg\ntrain/80.jpg\ntrain/195.jpg\ntrain/181.jpg\ntrain/5.jpg\ntrain/57.jpg\ntrain/43.jpg\ntrain/55.jpg\ntrain/7.jpg\ntrain/41.jpg\ntrain/69.jpg\ntrain/197.jpg\ntrain/183.jpg\ntrain/96.jpg\ntrain/168.jpg\ntrain/82.jpg\ntrain/154.jpg\ntrain/140.jpg\ntrain/395.jpg\ntrain/381.jpg\ntrain/356.jpg\ntrain/342.jpg\ntrain/222.jpg\ntrain/236.jpg\ntrain/237.jpg\ntrain/223.jpg\ntrain/343.jpg\ntrain/357.jpg\ntrain/380.jpg\ntrain/394.jpg\ntrain/141.jpg\ntrain/155.jpg\ntrain/83.jpg\ntrain/97.jpg\ntrain/169.jpg\ntrain/182.jpg\ntrain/68.jpg\ntrain/196.jpg\ntrain/40.jpg\ntrain/54.jpg\ntrain/6.jpg\ntrain/192.jpg\ntrain/78.jpg\ntrain/186.jpg\ntrain/2.jpg\ntrain/50.jpg\ntrain/44.jpg\ntrain/151.jpg\ntrain/145.jpg\ntrain/93.jpg\ntrain/87.jpg\ntrain/179.jpg\ntrain/390.jpg\ntrain/384.jpg\ntrain/353.jpg\ntrain/347.jpg\ntrain/227.jpg\ntrain/233.jpg\ntrain/232.jpg\ntrain/226.jpg\ntrain/346.jpg\ntrain/352.jpg\ntrain/385.jpg\ntrain/391.jpg\ntrain/86.jpg\ntrain/178.jpg\ntrain/92.jpg\ntrain/144.jpg\ntrain/150.jpg\ntrain/45.jpg\ntrain/3.jpg\ntrain/51.jpg\ntrain/79.jpg\ntrain/187.jpg\ntrain/193.jpg\ntrain/185.jpg\ntrain/191.jpg\ntrain/47.jpg\ntrain/53.jpg\ntrain/1.jpg\ntrain/146.jpg\ntrain/152.jpg\ntrain/84.jpg\ntrain/90.jpg\ntrain/387.jpg\ntrain/393.jpg\ntrain/344.jpg\ntrain/350.jpg\ntrain/378.jpg\ntrain/230.jpg\ntrain/224.jpg\ntrain/218.jpg\ntrain/219.jpg\ntrain/225.jpg\ntrain/231.jpg\ntrain/379.jpg\ntrain/351.jpg\ntrain/345.jpg\ntrain/392.jpg\ntrain/386.jpg\ntrain/91.jpg\ntrain/85.jpg\ntrain/153.jpg\ntrain/147.jpg\ntrain/52.jpg\ntrain/46.jpg\ntrain/190.jpg\ntrain/184.jpg\nval/63.jpg\nval/77.jpg\nval/88.jpg\nval/89.jpg\nval/76.jpg\nval/62.jpg\nval/74.jpg\nval/60.jpg\nval/48.jpg\nval/49.jpg\nval/61.jpg\nval/75.jpg\nval/59.jpg\nval/71.jpg\nval/65.jpg\nval/64.jpg\nval/70.jpg\nval/58.jpg\nval/8.jpg\nval/66.jpg\nval/72.jpg\nval/99.jpg\nval/98.jpg\nval/73.jpg\nval/67.jpg\nval/9.jpg\nval/14.jpg\nval/28.jpg\nval/100.jpg\nval/29.jpg\nval/15.jpg\nval/17.jpg\nval/16.jpg\nval/12.jpg\nval/13.jpg\nval/39.jpg\nval/11.jpg\nval/10.jpg\nval/38.jpg\nval/21.jpg\nval/35.jpg\nval/34.jpg\nval/20.jpg\nval/36.jpg\nval/22.jpg\nval/23.jpg\nval/37.jpg\nval/33.jpg\nval/27.jpg\nval/26.jpg\nval/32.jpg\nval/18.jpg\nval/24.jpg\nval/30.jpg\nval/31.jpg\nval/25.jpg\nval/19.jpg\nval/42.jpg\nval/4.jpg\nval/56.jpg\nval/81.jpg\nval/95.jpg\nval/94.jpg\nval/80.jpg\nval/5.jpg\nval/57.jpg\nval/43.jpg\nval/55.jpg\nval/7.jpg\nval/41.jpg\nval/69.jpg\nval/96.jpg\nval/82.jpg\nval/83.jpg\nval/97.jpg\nval/68.jpg\nval/40.jpg\nval/54.jpg\nval/6.jpg\nval/78.jpg\nval/2.jpg\nval/50.jpg\nval/44.jpg\nval/93.jpg\nval/87.jpg\nval/86.jpg\nval/92.jpg\nval/45.jpg\nval/3.jpg\nval/51.jpg\nval/79.jpg\nval/47.jpg\nval/53.jpg\nval/1.jpg\nval/84.jpg\nval/90.jpg\nval/91.jpg\nval/85.jpg\nval/52.jpg\nval/46.jpg\n"
     ]
    }
   ],
   "source": [
    "for root, subfolders, files in os.walk(inpath):\n",
    "    for f in files:\n",
    "        if not f == '.DS_Store':\n",
    "            print(os.path.join(os.path.basename(root), f))"
   ]
  },
  {
   "cell_type": "code",
   "execution_count": 35,
   "metadata": {},
   "outputs": [
    {
     "output_type": "execute_result",
     "data": {
      "text/plain": [
       "'test'"
      ]
     },
     "metadata": {},
     "execution_count": 35
    }
   ],
   "source": [
    "inname = 'westernSeg2Pic/facades/test/63.jpg'\n",
    "os.path.basename(os.path.dirname(inname))"
   ]
  },
  {
   "cell_type": "code",
   "execution_count": null,
   "metadata": {},
   "outputs": [],
   "source": []
  }
 ]
}